{
 "cells": [
  {
   "cell_type": "code",
   "execution_count": 1,
   "id": "2c15001e",
   "metadata": {
    "scrolled": true
   },
   "outputs": [],
   "source": [
    "import pandas as pd\n",
    "import numpy as np\n",
    "import matplotlib.pyplot as plt\n",
    "import copy\n",
    "import math\n",
    "# import random\n",
    "from sklearn.model_selection import train_test_split\n",
    "from sklearn.metrics import confusion_matrix\n",
    "from sklearn.metrics import accuracy_score\n",
    "from sklearn.metrics import recall_score\n",
    "from sklearn.metrics import precision_score\n",
    "from sklearn.metrics import roc_curve\n",
    "from sklearn.metrics import f1_score\n",
    "from sklearn.metrics import ConfusionMatrixDisplay\n",
    "from sklearn.metrics import RocCurveDisplay\n",
    "from sklearn.neighbors import KNeighborsClassifier"
   ]
  },
  {
   "cell_type": "code",
   "execution_count": 2,
   "id": "9abeee5c",
   "metadata": {},
   "outputs": [
    {
     "ename": "FileNotFoundError",
     "evalue": "[Errno 2] No such file or directory: 'air.csv'",
     "output_type": "error",
     "traceback": [
      "\u001b[1;31m---------------------------------------------------------------------------\u001b[0m",
      "\u001b[1;31mFileNotFoundError\u001b[0m                         Traceback (most recent call last)",
      "\u001b[1;32mC:\\Users\\Public\\Documents\\Wondershare\\CreatorTemp/ipykernel_76944/935140293.py\u001b[0m in \u001b[0;36m<module>\u001b[1;34m\u001b[0m\n\u001b[0;32m      1\u001b[0m \u001b[1;31m# import datasets\u001b[0m\u001b[1;33m\u001b[0m\u001b[1;33m\u001b[0m\u001b[0m\n\u001b[1;32m----> 2\u001b[1;33m \u001b[0mair_df\u001b[0m \u001b[1;33m=\u001b[0m \u001b[0mpd\u001b[0m\u001b[1;33m.\u001b[0m\u001b[0mread_csv\u001b[0m\u001b[1;33m(\u001b[0m\u001b[1;34m'air.csv'\u001b[0m\u001b[1;33m)\u001b[0m\u001b[1;33m\u001b[0m\u001b[1;33m\u001b[0m\u001b[0m\n\u001b[0m\u001b[0;32m      3\u001b[0m \u001b[0mwater_df\u001b[0m \u001b[1;33m=\u001b[0m \u001b[0mpd\u001b[0m\u001b[1;33m.\u001b[0m\u001b[0mread_csv\u001b[0m\u001b[1;33m(\u001b[0m\u001b[1;34m'pure_water.csv'\u001b[0m\u001b[1;33m)\u001b[0m\u001b[1;33m\u001b[0m\u001b[1;33m\u001b[0m\u001b[0m\n\u001b[0;32m      4\u001b[0m \u001b[0msugar_df\u001b[0m \u001b[1;33m=\u001b[0m \u001b[0mpd\u001b[0m\u001b[1;33m.\u001b[0m\u001b[0mread_csv\u001b[0m\u001b[1;33m(\u001b[0m\u001b[1;34m'sugar_water_20.csv'\u001b[0m\u001b[1;33m)\u001b[0m\u001b[1;33m\u001b[0m\u001b[1;33m\u001b[0m\u001b[0m\n\u001b[0;32m      5\u001b[0m \u001b[0msalt_df\u001b[0m \u001b[1;33m=\u001b[0m \u001b[0mpd\u001b[0m\u001b[1;33m.\u001b[0m\u001b[0mread_csv\u001b[0m\u001b[1;33m(\u001b[0m\u001b[1;34m'salt_water_10.csv'\u001b[0m\u001b[1;33m)\u001b[0m\u001b[1;33m\u001b[0m\u001b[1;33m\u001b[0m\u001b[0m\n",
      "\u001b[1;32mD:\\anaconda\\lib\\site-packages\\pandas\\util\\_decorators.py\u001b[0m in \u001b[0;36mwrapper\u001b[1;34m(*args, **kwargs)\u001b[0m\n\u001b[0;32m    309\u001b[0m                     \u001b[0mstacklevel\u001b[0m\u001b[1;33m=\u001b[0m\u001b[0mstacklevel\u001b[0m\u001b[1;33m,\u001b[0m\u001b[1;33m\u001b[0m\u001b[1;33m\u001b[0m\u001b[0m\n\u001b[0;32m    310\u001b[0m                 )\n\u001b[1;32m--> 311\u001b[1;33m             \u001b[1;32mreturn\u001b[0m \u001b[0mfunc\u001b[0m\u001b[1;33m(\u001b[0m\u001b[1;33m*\u001b[0m\u001b[0margs\u001b[0m\u001b[1;33m,\u001b[0m \u001b[1;33m**\u001b[0m\u001b[0mkwargs\u001b[0m\u001b[1;33m)\u001b[0m\u001b[1;33m\u001b[0m\u001b[1;33m\u001b[0m\u001b[0m\n\u001b[0m\u001b[0;32m    312\u001b[0m \u001b[1;33m\u001b[0m\u001b[0m\n\u001b[0;32m    313\u001b[0m         \u001b[1;32mreturn\u001b[0m \u001b[0mwrapper\u001b[0m\u001b[1;33m\u001b[0m\u001b[1;33m\u001b[0m\u001b[0m\n",
      "\u001b[1;32mD:\\anaconda\\lib\\site-packages\\pandas\\io\\parsers\\readers.py\u001b[0m in \u001b[0;36mread_csv\u001b[1;34m(filepath_or_buffer, sep, delimiter, header, names, index_col, usecols, squeeze, prefix, mangle_dupe_cols, dtype, engine, converters, true_values, false_values, skipinitialspace, skiprows, skipfooter, nrows, na_values, keep_default_na, na_filter, verbose, skip_blank_lines, parse_dates, infer_datetime_format, keep_date_col, date_parser, dayfirst, cache_dates, iterator, chunksize, compression, thousands, decimal, lineterminator, quotechar, quoting, doublequote, escapechar, comment, encoding, encoding_errors, dialect, error_bad_lines, warn_bad_lines, on_bad_lines, delim_whitespace, low_memory, memory_map, float_precision, storage_options)\u001b[0m\n\u001b[0;32m    584\u001b[0m     \u001b[0mkwds\u001b[0m\u001b[1;33m.\u001b[0m\u001b[0mupdate\u001b[0m\u001b[1;33m(\u001b[0m\u001b[0mkwds_defaults\u001b[0m\u001b[1;33m)\u001b[0m\u001b[1;33m\u001b[0m\u001b[1;33m\u001b[0m\u001b[0m\n\u001b[0;32m    585\u001b[0m \u001b[1;33m\u001b[0m\u001b[0m\n\u001b[1;32m--> 586\u001b[1;33m     \u001b[1;32mreturn\u001b[0m \u001b[0m_read\u001b[0m\u001b[1;33m(\u001b[0m\u001b[0mfilepath_or_buffer\u001b[0m\u001b[1;33m,\u001b[0m \u001b[0mkwds\u001b[0m\u001b[1;33m)\u001b[0m\u001b[1;33m\u001b[0m\u001b[1;33m\u001b[0m\u001b[0m\n\u001b[0m\u001b[0;32m    587\u001b[0m \u001b[1;33m\u001b[0m\u001b[0m\n\u001b[0;32m    588\u001b[0m \u001b[1;33m\u001b[0m\u001b[0m\n",
      "\u001b[1;32mD:\\anaconda\\lib\\site-packages\\pandas\\io\\parsers\\readers.py\u001b[0m in \u001b[0;36m_read\u001b[1;34m(filepath_or_buffer, kwds)\u001b[0m\n\u001b[0;32m    480\u001b[0m \u001b[1;33m\u001b[0m\u001b[0m\n\u001b[0;32m    481\u001b[0m     \u001b[1;31m# Create the parser.\u001b[0m\u001b[1;33m\u001b[0m\u001b[1;33m\u001b[0m\u001b[0m\n\u001b[1;32m--> 482\u001b[1;33m     \u001b[0mparser\u001b[0m \u001b[1;33m=\u001b[0m \u001b[0mTextFileReader\u001b[0m\u001b[1;33m(\u001b[0m\u001b[0mfilepath_or_buffer\u001b[0m\u001b[1;33m,\u001b[0m \u001b[1;33m**\u001b[0m\u001b[0mkwds\u001b[0m\u001b[1;33m)\u001b[0m\u001b[1;33m\u001b[0m\u001b[1;33m\u001b[0m\u001b[0m\n\u001b[0m\u001b[0;32m    483\u001b[0m \u001b[1;33m\u001b[0m\u001b[0m\n\u001b[0;32m    484\u001b[0m     \u001b[1;32mif\u001b[0m \u001b[0mchunksize\u001b[0m \u001b[1;32mor\u001b[0m \u001b[0miterator\u001b[0m\u001b[1;33m:\u001b[0m\u001b[1;33m\u001b[0m\u001b[1;33m\u001b[0m\u001b[0m\n",
      "\u001b[1;32mD:\\anaconda\\lib\\site-packages\\pandas\\io\\parsers\\readers.py\u001b[0m in \u001b[0;36m__init__\u001b[1;34m(self, f, engine, **kwds)\u001b[0m\n\u001b[0;32m    809\u001b[0m             \u001b[0mself\u001b[0m\u001b[1;33m.\u001b[0m\u001b[0moptions\u001b[0m\u001b[1;33m[\u001b[0m\u001b[1;34m\"has_index_names\"\u001b[0m\u001b[1;33m]\u001b[0m \u001b[1;33m=\u001b[0m \u001b[0mkwds\u001b[0m\u001b[1;33m[\u001b[0m\u001b[1;34m\"has_index_names\"\u001b[0m\u001b[1;33m]\u001b[0m\u001b[1;33m\u001b[0m\u001b[1;33m\u001b[0m\u001b[0m\n\u001b[0;32m    810\u001b[0m \u001b[1;33m\u001b[0m\u001b[0m\n\u001b[1;32m--> 811\u001b[1;33m         \u001b[0mself\u001b[0m\u001b[1;33m.\u001b[0m\u001b[0m_engine\u001b[0m \u001b[1;33m=\u001b[0m \u001b[0mself\u001b[0m\u001b[1;33m.\u001b[0m\u001b[0m_make_engine\u001b[0m\u001b[1;33m(\u001b[0m\u001b[0mself\u001b[0m\u001b[1;33m.\u001b[0m\u001b[0mengine\u001b[0m\u001b[1;33m)\u001b[0m\u001b[1;33m\u001b[0m\u001b[1;33m\u001b[0m\u001b[0m\n\u001b[0m\u001b[0;32m    812\u001b[0m \u001b[1;33m\u001b[0m\u001b[0m\n\u001b[0;32m    813\u001b[0m     \u001b[1;32mdef\u001b[0m \u001b[0mclose\u001b[0m\u001b[1;33m(\u001b[0m\u001b[0mself\u001b[0m\u001b[1;33m)\u001b[0m\u001b[1;33m:\u001b[0m\u001b[1;33m\u001b[0m\u001b[1;33m\u001b[0m\u001b[0m\n",
      "\u001b[1;32mD:\\anaconda\\lib\\site-packages\\pandas\\io\\parsers\\readers.py\u001b[0m in \u001b[0;36m_make_engine\u001b[1;34m(self, engine)\u001b[0m\n\u001b[0;32m   1038\u001b[0m             )\n\u001b[0;32m   1039\u001b[0m         \u001b[1;31m# error: Too many arguments for \"ParserBase\"\u001b[0m\u001b[1;33m\u001b[0m\u001b[1;33m\u001b[0m\u001b[0m\n\u001b[1;32m-> 1040\u001b[1;33m         \u001b[1;32mreturn\u001b[0m \u001b[0mmapping\u001b[0m\u001b[1;33m[\u001b[0m\u001b[0mengine\u001b[0m\u001b[1;33m]\u001b[0m\u001b[1;33m(\u001b[0m\u001b[0mself\u001b[0m\u001b[1;33m.\u001b[0m\u001b[0mf\u001b[0m\u001b[1;33m,\u001b[0m \u001b[1;33m**\u001b[0m\u001b[0mself\u001b[0m\u001b[1;33m.\u001b[0m\u001b[0moptions\u001b[0m\u001b[1;33m)\u001b[0m  \u001b[1;31m# type: ignore[call-arg]\u001b[0m\u001b[1;33m\u001b[0m\u001b[1;33m\u001b[0m\u001b[0m\n\u001b[0m\u001b[0;32m   1041\u001b[0m \u001b[1;33m\u001b[0m\u001b[0m\n\u001b[0;32m   1042\u001b[0m     \u001b[1;32mdef\u001b[0m \u001b[0m_failover_to_python\u001b[0m\u001b[1;33m(\u001b[0m\u001b[0mself\u001b[0m\u001b[1;33m)\u001b[0m\u001b[1;33m:\u001b[0m\u001b[1;33m\u001b[0m\u001b[1;33m\u001b[0m\u001b[0m\n",
      "\u001b[1;32mD:\\anaconda\\lib\\site-packages\\pandas\\io\\parsers\\c_parser_wrapper.py\u001b[0m in \u001b[0;36m__init__\u001b[1;34m(self, src, **kwds)\u001b[0m\n\u001b[0;32m     49\u001b[0m \u001b[1;33m\u001b[0m\u001b[0m\n\u001b[0;32m     50\u001b[0m         \u001b[1;31m# open handles\u001b[0m\u001b[1;33m\u001b[0m\u001b[1;33m\u001b[0m\u001b[0m\n\u001b[1;32m---> 51\u001b[1;33m         \u001b[0mself\u001b[0m\u001b[1;33m.\u001b[0m\u001b[0m_open_handles\u001b[0m\u001b[1;33m(\u001b[0m\u001b[0msrc\u001b[0m\u001b[1;33m,\u001b[0m \u001b[0mkwds\u001b[0m\u001b[1;33m)\u001b[0m\u001b[1;33m\u001b[0m\u001b[1;33m\u001b[0m\u001b[0m\n\u001b[0m\u001b[0;32m     52\u001b[0m         \u001b[1;32massert\u001b[0m \u001b[0mself\u001b[0m\u001b[1;33m.\u001b[0m\u001b[0mhandles\u001b[0m \u001b[1;32mis\u001b[0m \u001b[1;32mnot\u001b[0m \u001b[1;32mNone\u001b[0m\u001b[1;33m\u001b[0m\u001b[1;33m\u001b[0m\u001b[0m\n\u001b[0;32m     53\u001b[0m \u001b[1;33m\u001b[0m\u001b[0m\n",
      "\u001b[1;32mD:\\anaconda\\lib\\site-packages\\pandas\\io\\parsers\\base_parser.py\u001b[0m in \u001b[0;36m_open_handles\u001b[1;34m(self, src, kwds)\u001b[0m\n\u001b[0;32m    220\u001b[0m         \u001b[0mLet\u001b[0m \u001b[0mthe\u001b[0m \u001b[0mreaders\u001b[0m \u001b[0mopen\u001b[0m \u001b[0mIOHandles\u001b[0m \u001b[0mafter\u001b[0m \u001b[0mthey\u001b[0m \u001b[0mare\u001b[0m \u001b[0mdone\u001b[0m \u001b[1;32mwith\u001b[0m \u001b[0mtheir\u001b[0m \u001b[0mpotential\u001b[0m \u001b[0mraises\u001b[0m\u001b[1;33m.\u001b[0m\u001b[1;33m\u001b[0m\u001b[1;33m\u001b[0m\u001b[0m\n\u001b[0;32m    221\u001b[0m         \"\"\"\n\u001b[1;32m--> 222\u001b[1;33m         self.handles = get_handle(\n\u001b[0m\u001b[0;32m    223\u001b[0m             \u001b[0msrc\u001b[0m\u001b[1;33m,\u001b[0m\u001b[1;33m\u001b[0m\u001b[1;33m\u001b[0m\u001b[0m\n\u001b[0;32m    224\u001b[0m             \u001b[1;34m\"r\"\u001b[0m\u001b[1;33m,\u001b[0m\u001b[1;33m\u001b[0m\u001b[1;33m\u001b[0m\u001b[0m\n",
      "\u001b[1;32mD:\\anaconda\\lib\\site-packages\\pandas\\io\\common.py\u001b[0m in \u001b[0;36mget_handle\u001b[1;34m(path_or_buf, mode, encoding, compression, memory_map, is_text, errors, storage_options)\u001b[0m\n\u001b[0;32m    700\u001b[0m         \u001b[1;32mif\u001b[0m \u001b[0mioargs\u001b[0m\u001b[1;33m.\u001b[0m\u001b[0mencoding\u001b[0m \u001b[1;32mand\u001b[0m \u001b[1;34m\"b\"\u001b[0m \u001b[1;32mnot\u001b[0m \u001b[1;32min\u001b[0m \u001b[0mioargs\u001b[0m\u001b[1;33m.\u001b[0m\u001b[0mmode\u001b[0m\u001b[1;33m:\u001b[0m\u001b[1;33m\u001b[0m\u001b[1;33m\u001b[0m\u001b[0m\n\u001b[0;32m    701\u001b[0m             \u001b[1;31m# Encoding\u001b[0m\u001b[1;33m\u001b[0m\u001b[1;33m\u001b[0m\u001b[0m\n\u001b[1;32m--> 702\u001b[1;33m             handle = open(\n\u001b[0m\u001b[0;32m    703\u001b[0m                 \u001b[0mhandle\u001b[0m\u001b[1;33m,\u001b[0m\u001b[1;33m\u001b[0m\u001b[1;33m\u001b[0m\u001b[0m\n\u001b[0;32m    704\u001b[0m                 \u001b[0mioargs\u001b[0m\u001b[1;33m.\u001b[0m\u001b[0mmode\u001b[0m\u001b[1;33m,\u001b[0m\u001b[1;33m\u001b[0m\u001b[1;33m\u001b[0m\u001b[0m\n",
      "\u001b[1;31mFileNotFoundError\u001b[0m: [Errno 2] No such file or directory: 'air.csv'"
     ]
    }
   ],
   "source": [
    "# import datasets\n",
    "air_df = pd.read_csv('air.csv')\n",
    "water_df = pd.read_csv('pure_water.csv')\n",
    "sugar_df = pd.read_csv('sugar_water_20.csv')\n",
    "salt_df = pd.read_csv('salt_water_10.csv')\n",
    "milk_df = pd.read_csv('milk.csv')"
   ]
  },
  {
   "cell_type": "code",
   "execution_count": null,
   "id": "e8b476b2",
   "metadata": {},
   "outputs": [],
   "source": [
    "# insert labels\n",
    "air_df['label'] = 0\n",
    "water_df['label'] = 1\n",
    "sugar_df['label'] = 2\n",
    "salt_df['label'] = 3\n",
    "milk_df['label'] = 4"
   ]
  },
  {
   "cell_type": "code",
   "execution_count": null,
   "id": "7b0acd4e",
   "metadata": {},
   "outputs": [],
   "source": [
    "# print(milk_df)"
   ]
  },
  {
   "cell_type": "code",
   "execution_count": null,
   "id": "c2c4ef6a",
   "metadata": {},
   "outputs": [],
   "source": [
    "def phaseDenoise(df):\n",
    "    csi_temp = df['CSI_DATA'].to_numpy()\n",
    "    csi = copy.deepcopy(csi_temp)\n",
    "    \n",
    "    for i in range(len(csi)):\n",
    "        csi[i] = csi[i][1:-2]\n",
    "        csi[i] = csi[i].split(\" \")\n",
    "        csi[i] = [int(x) for x in csi[i]]\n",
    "        \n",
    "    m, n = len(csi), len(csi[0])\n",
    "    raw_phase = [[0] * (n // 2) for _ in range(m)]\n",
    "    delete_idx = []\n",
    "    \n",
    "    for i in range(m):\n",
    "        for j in range(0, n, 2):\n",
    "            if i == 0:\n",
    "                if csi[i][j + 1] == 0 and csi[i][j] == 0:\n",
    "                    delete_idx.append(j // 2)\n",
    "    #         print([csi[i][j + 1], csi[i][j]])\n",
    "            if csi[i][j] != 0:\n",
    "                raw_phase[i][j // 2] = math.atan(csi[i][j + 1] / csi[i][j])\n",
    "    # print(raw_phase)\n",
    "    \n",
    "    raw_phase = np.delete(raw_phase, delete_idx, 1)\n",
    "    line = np.linspace(-27, 27, num=55)\n",
    "    line = np.delete(line, 27)\n",
    "    phase_m, phase_n = len(raw_phase), len(raw_phase[0])\n",
    "    avg = [0 for _ in range(phase_m)]\n",
    "    for i in range(len(avg)):\n",
    "        avg[i] = sum(raw_phase[i]) / 54\n",
    "    denoise_phase = [[0] * phase_n for _ in range(phase_m)]\n",
    "\n",
    "    for i in range(phase_m):\n",
    "        for j in range(phase_n):\n",
    "            denoise_phase[i][j] = raw_phase[i][j] - ((raw_phase[i][-1] - raw_phase[i][0]) / (line[-1] - line[1])) * line[j] - avg[i]\n",
    "    plt.plot(raw_phase[:, 33])\n",
    "    plt.plot([row[33] for row in denoise_phase], 'r+')\n",
    "    plt.show()\n",
    "    print(\"Processing Finished\")\n",
    "    return raw_phase, denoise_phase"
   ]
  },
  {
   "cell_type": "code",
   "execution_count": null,
   "id": "615958b4",
   "metadata": {},
   "outputs": [],
   "source": [
    "def liquidIdentify(base_phase, tar_phase, base_rss, tar_rss, zeta=0):\n",
    "    dp = tar_phase - base_phase\n",
    "    dr = tar_rss - base_rss\n",
    "    omega = (np.log(10 ** (dr / 20))) / (dp + 2 * zeta * math.pi)\n",
    "    return omega"
   ]
  },
  {
   "cell_type": "code",
   "execution_count": null,
   "id": "9e130495",
   "metadata": {},
   "outputs": [],
   "source": [
    "def reduceOutliner(denoise_phase):\n",
    "    std_array=np.std(denoise_phase,axis=0);\n",
    "    phase_mean=denoise_phase.mean(axis=0);\n",
    "    shape_num=denoise_phase.shape\n",
    "    row_num=shape_num[0]\n",
    "    for i in range(54):\n",
    "        for j in range(row_num):\n",
    "            if((denoise_phase[j][i]>(phase_mean[i]+std_array[i]))or(denoise_phase[j][i]<(phase_mean[i]-std_array[i]))):\n",
    "                denoise_phase[j][i]=phase_mean[i];\n",
    "\n",
    "    return denoise_phase;\n"
   ]
  },
  {
   "cell_type": "code",
   "execution_count": null,
   "id": "fa10d9fa",
   "metadata": {},
   "outputs": [],
   "source": [
    "air_raw_phase, air_denoise_phase = phaseDenoise(air_df)\n",
    "air_denoise_phase_smth=np.array(air_denoise_phase);\n",
    "air_denoise_phase=reduceOutliner(air_denoise_phase_smth);\n",
    "air_rss = air_df['rssi'].to_numpy()\n",
    "air_label = air_df['label'].to_numpy()"
   ]
  },
  {
   "cell_type": "code",
   "execution_count": null,
   "id": "41100fde",
   "metadata": {},
   "outputs": [],
   "source": [
    "water_raw_phase, water_denoise_phase = phaseDenoise(water_df)\n",
    "water_denoise_phase_smth=np.array(water_denoise_phase);\n",
    "water_denoise_phase=reduceOutliner(water_denoise_phase_smth);\n",
    "water_rss = water_df['rssi'].to_numpy()\n",
    "water_label = water_df['label'].to_numpy()"
   ]
  },
  {
   "cell_type": "code",
   "execution_count": null,
   "id": "afa13894",
   "metadata": {
    "scrolled": true
   },
   "outputs": [],
   "source": [
    "sugar_raw_phase, sugar_denoise_phase = phaseDenoise(sugar_df)\n",
    "sugar_denoise_phase_smth=np.array(sugar_denoise_phase);\n",
    "sugar_denoise_phase=reduceOutliner(sugar_denoise_phase_smth);\n",
    "sugar_rss = sugar_df['rssi'].to_numpy()\n",
    "sugar_label = sugar_df['label'].to_numpy()"
   ]
  },
  {
   "cell_type": "code",
   "execution_count": null,
   "id": "8b56b4f2",
   "metadata": {},
   "outputs": [],
   "source": [
    "salt_raw_phase, salt_denoise_phase = phaseDenoise(salt_df)\n",
    "salt_denoise_phase_smth=np.array(salt_denoise_phase);\n",
    "salt_denoise_phase=reduceOutliner(air_denoise_phase_smth);\n",
    "salt_rss = salt_df['rssi'].to_numpy()\n",
    "salt_label = salt_df['label'].to_numpy()"
   ]
  },
  {
   "cell_type": "code",
   "execution_count": null,
   "id": "46ebfeba",
   "metadata": {},
   "outputs": [],
   "source": [
    "milk_raw_phase, milk_denoise_phase = phaseDenoise(milk_df)\n",
    "milk_denoise_phase_smth=np.array(milk_denoise_phase);\n",
    "milk_denoise_phase=reduceOutliner(milk_denoise_phase_smth);\n",
    "milk_rss = milk_df['rssi'].to_numpy()\n",
    "milk_label = milk_df['label'].to_numpy()"
   ]
  },
  {
   "cell_type": "code",
   "execution_count": null,
   "id": "8bb7643d",
   "metadata": {},
   "outputs": [],
   "source": [
    "base_avg_rss = sum(air_rss) / len(air_rss)\n",
    "base_avg_phase = np.mean(air_denoise_phase, axis=0)"
   ]
  },
  {
   "cell_type": "code",
   "execution_count": null,
   "id": "cd39a8e3",
   "metadata": {},
   "outputs": [],
   "source": [
    "X_data = []\n",
    "y_data = []\n",
    "selected = [i for i in range(54)]\n",
    "for i in range(len(water_denoise_phase)):\n",
    "    temp1 = [0] * len(selected)\n",
    "    for j in range(len(selected)):\n",
    "        temp1[j] = liquidIdentify(base_avg_phase[selected[j]], water_denoise_phase[i][selected[j]], base_avg_rss, water_rss[i])\n",
    "    X_data.append(temp1)\n",
    "    y_data.append(water_label[i])\n",
    "for i in range(len(sugar_denoise_phase)):\n",
    "    temp2 = [0] * len(selected)\n",
    "    for j in range(len(selected)):\n",
    "        temp2[j] = liquidIdentify(base_avg_phase[selected[j]], sugar_denoise_phase[i][selected[j]], base_avg_rss, sugar_rss[i])\n",
    "    X_data.append(temp2)\n",
    "    y_data.append(sugar_label[i])\n",
    "for i in range(len(salt_denoise_phase)):\n",
    "    temp3 = [0] * len(selected)\n",
    "    for j in range(len(selected)):\n",
    "        temp3[j] = liquidIdentify(base_avg_phase[selected[j]], salt_denoise_phase[i][selected[j]], base_avg_rss, salt_rss[i])\n",
    "    X_data.append(temp3)\n",
    "#     X_data.append(liquidIdentify(base_avg_phase, salt_denoise_phase[i], base_avg_rss, salt_rss[i]))\n",
    "    y_data.append(salt_label[i])\n",
    "# for i in range(len(milk_denoise_phase)):\n",
    "#     temp4 = [0] * len(selected)\n",
    "#     for j in range(len(selected)):\n",
    "#         temp4[j] = liquidIdentify(base_avg_phase[selected[j]], milk_denoise_phase[i][selected[j]], base_avg_rss, milk_rss[i])\n",
    "#     X_data.append(temp4)\n",
    "# #     X_data.append(liquidIdentify(base_avg_phase, milk_denoise_phase[i], base_avg_rss, milk_rss[i]))\n",
    "#     y_data.append(milk_label[i])"
   ]
  },
  {
   "cell_type": "code",
   "execution_count": null,
   "id": "66db2c78",
   "metadata": {},
   "outputs": [],
   "source": [
    " print(temp1)"
   ]
  },
  {
   "cell_type": "code",
   "execution_count": null,
   "id": "e8d61835",
   "metadata": {},
   "outputs": [],
   "source": [
    "# suppose we already obtained dataset of omega's and labels of each type, we now split the dataset into training set and testing set\n",
    "X_fit, X_eval, y_fit, y_eval= train_test_split(X_data, y_data, test_size=0.2, random_state=42)"
   ]
  },
  {
   "cell_type": "code",
   "execution_count": null,
   "id": "dcfa92c3",
   "metadata": {},
   "outputs": [],
   "source": [
    "# print(X_eval)"
   ]
  },
  {
   "cell_type": "code",
   "execution_count": null,
   "id": "0eb65d0a",
   "metadata": {},
   "outputs": [],
   "source": [
    "# def multi_calssification(model, train_set, test_set, train_label, test_label, gamma='auto', C=1000000):\n",
    "#     plt.gcf().clear()\n",
    "#     model.fit(train_set, train_label)\n",
    "#     model_predicted = model.predict(test_set)\n",
    "\n",
    "# #     print('Accuracy: ' + str(accuracy_score(test_label.ravel(), model_predicted)))\n",
    "# #     print('Precision: ' + str(precision_score(test_label.ravel(), model_predicted, average=\"macro\")))\n",
    "# #     print('Recall: ' + str(recall_score(test_label.ravel(), model_predicted, average=\"macro\")))\n",
    "# #     print('F-1 Score: ' + str(f1_score(test_label.ravel(), model_predicted, average=\"macro\")))\n",
    "\n",
    "# #     plt.show()\n",
    "# #     print('-' * 50)\n",
    "# #     print(\"Confusion Matrix\")\n",
    "# #     print('-' * 50)\n",
    "    \n",
    "#     multi_svm_confusion = confusion_matrix(y_true=test_label, y_pred=model_predicted)\n",
    "#     multi_confusion_matrix = ConfusionMatrixDisplay(multi_svm_confusion)\n",
    "#     multi_confusion_matrix.plot(cmap=plt.cm.Purples,)\n",
    "#     plt.xticks()\n",
    "#     plt.show()"
   ]
  },
  {
   "cell_type": "code",
   "execution_count": null,
   "id": "69035cae",
   "metadata": {},
   "outputs": [],
   "source": [
    "knn = KNeighborsClassifier(n_neighbors=3)\n",
    "knn.fit(X_fit, y_fit)\n",
    "model_predicted = knn.predict(X_eval)\n",
    "multi_svm_confusion = confusion_matrix(y_true=y_eval, y_pred=model_predicted)\n",
    "multi_confusion_matrix = ConfusionMatrixDisplay(multi_svm_confusion)\n",
    "multi_confusion_matrix.plot(cmap=plt.cm.Purples,)\n",
    "plt.xticks()\n",
    "plt.show()"
   ]
  }
 ],
 "metadata": {
  "kernelspec": {
   "display_name": "Python 3 (ipykernel)",
   "language": "python",
   "name": "python3"
  },
  "language_info": {
   "codemirror_mode": {
    "name": "ipython",
    "version": 3
   },
   "file_extension": ".py",
   "mimetype": "text/x-python",
   "name": "python",
   "nbconvert_exporter": "python",
   "pygments_lexer": "ipython3",
   "version": "3.9.7"
  }
 },
 "nbformat": 4,
 "nbformat_minor": 5
}
